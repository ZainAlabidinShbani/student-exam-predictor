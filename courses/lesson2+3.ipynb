{
 "cells": [
  {
   "cell_type": "markdown",
   "id": "b600dada",
   "metadata": {},
   "source": [
    "## Lesson 2 — Building a Simple Model\n",
    "\n",
    "**Learning objectives**\n",
    "- Split the data into training and test sets.\n",
    "- Train a simple classifier (Logistic Regression) and an alternative model (Decision Tree).\n",
    "- Evaluate the model using accuracy, confusion matrix, and classification report.\n",
    "- Inspect basic model explanations (coefficients / feature importances).\n",
    "- Understand what accuracy means and its limitations.\n",
    "\n",
    "**Notes for beginners**\n",
    "- IMPORTANT: We must **not** use the final grade `G3` as a feature because `passed` is derived from `G3`. Using `G3` would leak the answer into the model (data leakage).\n"
   ]
  },
  {
   "cell_type": "code",
   "execution_count": 1,
   "id": "2feff253",
   "metadata": {},
   "outputs": [],
   "source": [
    "\n",
    "import pandas as pd\n",
    "import numpy as np\n",
    "\n",
    "from sklearn.model_selection import train_test_split, StratifiedKFold, cross_val_score\n",
    "from sklearn.preprocessing import StandardScaler\n",
    "from sklearn.linear_model import LogisticRegression\n",
    "from sklearn.tree import DecisionTreeClassifier\n",
    "from sklearn.metrics import accuracy_score, confusion_matrix, classification_report\n",
    "\n",
    "import matplotlib.pyplot as plt\n",
    "import seaborn as sns\n"
   ]
  },
  {
   "cell_type": "code",
   "execution_count": null,
   "id": "564457b0",
   "metadata": {},
   "outputs": [
    {
     "name": "stdout",
     "output_type": "stream",
     "text": [
      "Dataset shape: (50, 10)\n",
      "   student_id sex  age  studytime  failures  absences  G1  G2  G3  passed\n",
      "0           1   M   17          4         0         1  10  11  14       1\n",
      "1           2   F   16          2         1         4  17  19  16       1\n",
      "2           3   M   17          3         2         4  11  10   9       0\n",
      "3           4   M   18          3         1         1   8  10  12       1\n",
      "4           5   M   17          2         3         2   7   7   8       0\n"
     ]
    }
   ],
   "source": [
    "\n",
    "df = pd.read_csv(\"student_exam.csv\")\n",
    "\n",
    "print(\"Dataset shape:\", df.shape)\n",
    "print(df.head())"
   ]
  },
  {
   "cell_type": "markdown",
   "id": "f15fb462",
   "metadata": {},
   "source": [
    "### Feature selection (avoid leakage)\n",
    "We will build models using features that are available *before* knowing the final grade:\n",
    "- Keep: `sex`, `studytime`, `failures`, `absences`, `G1`, `G2`\n",
    "- Drop: `G3` and any ID columns (e.g., `student_id`) because `G3` determines `passed` and using it causes leakage.\n"
   ]
  },
  {
   "cell_type": "code",
   "execution_count": 3,
   "id": "f7347ef6",
   "metadata": {},
   "outputs": [
    {
     "name": "stdout",
     "output_type": "stream",
     "text": [
      "Feature columns after encoding: ['studytime', 'failures', 'absences', 'G1', 'G2', 'sex_M']\n",
      "Target distribution:\n",
      " passed\n",
      "1    28\n",
      "0    22\n",
      "Name: count, dtype: int64\n"
     ]
    }
   ],
   "source": [
    "X = df[['sex', 'studytime', 'failures', 'absences', 'G1', 'G2']]  # features\n",
    "y = df['passed']  # target (0=failed, 1=passed)\n",
    "\n",
    "# Convert categorical 'sex' into numeric dummy (female=1 if drop_first=True)\n",
    "X = pd.get_dummies(X, columns=['sex'], drop_first=True)\n",
    "\n",
    "print(\"Feature columns after encoding:\", X.columns.tolist())\n",
    "print(\"Target distribution:\\n\", y.value_counts())\n"
   ]
  },
  {
   "cell_type": "markdown",
   "id": "813908a0",
   "metadata": {},
   "source": [
    "### Train/Test split\n",
    "- We will split the data into training and test sets.\n",
    "- Use `stratify=y` to preserve the class proportions in both sets (important for small datasets).\n",
    "- Use `random_state` for reproducibility.\n"
   ]
  },
  {
   "cell_type": "code",
   "execution_count": 5,
   "id": "e409cdcb",
   "metadata": {},
   "outputs": [
    {
     "name": "stdout",
     "output_type": "stream",
     "text": [
      "Train shape: (40, 6) Test shape: (10, 6)\n",
      "Train class distribution:\n",
      " passed\n",
      "1    22\n",
      "0    18\n",
      "Name: count, dtype: int64\n",
      "Test class distribution:\n",
      " passed\n",
      "1    6\n",
      "0    4\n",
      "Name: count, dtype: int64\n"
     ]
    }
   ],
   "source": [
    "X_train, X_test, y_train, y_test = train_test_split(X, y, test_size=0.2, random_state=42, stratify=y)\n",
    "\n",
    "print(\"Train shape:\", X_train.shape, \"Test shape:\", X_test.shape)\n",
    "print(\"Train class distribution:\\n\", y_train.value_counts())\n",
    "print(\"Test class distribution:\\n\", y_test.value_counts())\n"
   ]
  },
  {
   "cell_type": "markdown",
   "id": "51352fde",
   "metadata": {},
   "source": [
    "### Feature scaling\n",
    "- Logistic Regression benefits from scaling numeric features, Decision Tree does not require it.\n",
    "- We'll scale numeric columns only and keep `sex` dummy as-is.\n"
   ]
  },
  {
   "cell_type": "code",
   "execution_count": 6,
   "id": "d4671044",
   "metadata": {},
   "outputs": [],
   "source": [
    "numeric_cols = ['studytime','failures','absences','G1','G2']\n",
    "\n",
    "# StandardScaler: fit on training data only\n",
    "scaler = StandardScaler()\n",
    "X_train_scaled = X_train.copy()\n",
    "X_test_scaled = X_test.copy()\n",
    "\n",
    "X_train_scaled[numeric_cols] = scaler.fit_transform(X_train[numeric_cols])\n",
    "X_test_scaled[numeric_cols]  = scaler.transform(X_test[numeric_cols])\n",
    "\n",
    "# Ready-to-use X for models\n",
    "X_train_proc = X_train_scaled\n",
    "X_test_proc  = X_test_scaled\n"
   ]
  },
  {
   "cell_type": "markdown",
   "id": "3c8e0fb8",
   "metadata": {},
   "source": [
    "### Train Logistic Regression\n",
    "- We'll use `liblinear` solver (good for small datasets).\n",
    "- After training, we compute accuracy, confusion matrix and classification report.\n"
   ]
  },
  {
   "cell_type": "code",
   "execution_count": 7,
   "id": "1048c40c",
   "metadata": {},
   "outputs": [
    {
     "name": "stdout",
     "output_type": "stream",
     "text": [
      "Logistic Regression accuracy: 0.9\n",
      "\n",
      "Confusion Matrix (rows=true, cols=pred):\n",
      " [[3 1]\n",
      " [0 6]]\n",
      "\n",
      "Classification Report:\n",
      "               precision    recall  f1-score   support\n",
      "\n",
      "           0      1.000     0.750     0.857         4\n",
      "           1      0.857     1.000     0.923         6\n",
      "\n",
      "    accuracy                          0.900        10\n",
      "   macro avg      0.929     0.875     0.890        10\n",
      "weighted avg      0.914     0.900     0.897        10\n",
      "\n"
     ]
    }
   ],
   "source": [
    "# Train Logistic Regression\n",
    "log_clf = LogisticRegression(solver='liblinear', random_state=42)\n",
    "log_clf.fit(X_train_proc, y_train)\n",
    "\n",
    "# Predict on test set\n",
    "y_pred_log = log_clf.predict(X_test_proc)\n",
    "\n",
    "# Evaluate\n",
    "acc_log = accuracy_score(y_test, y_pred_log)\n",
    "cm_log = confusion_matrix(y_test, y_pred_log)\n",
    "report_log = classification_report(y_test, y_pred_log, digits=3)\n",
    "\n",
    "print(\"Logistic Regression accuracy:\", acc_log)\n",
    "print(\"\\nConfusion Matrix (rows=true, cols=pred):\\n\", cm_log)\n",
    "print(\"\\nClassification Report:\\n\", report_log)\n"
   ]
  },
  {
   "cell_type": "markdown",
   "id": "8dece18b",
   "metadata": {},
   "source": [
    "### Logistic Regression coefficients\n",
    "- Coefficients show the direction (+/-) and relative magnitude of each feature.\n",
    "- Larger absolute value = stronger effect on the log-odds of passing.\n",
    "- We will pair each coefficient with its feature name and sort by absolute magnitude.\n"
   ]
  },
  {
   "cell_type": "code",
   "execution_count": 10,
   "id": "aad334e3",
   "metadata": {},
   "outputs": [
    {
     "name": "stdout",
     "output_type": "stream",
     "text": [
      "     feature      coef  abs_coef\n",
      "0         G2  1.425143  1.425143\n",
      "1         G1  0.851240  0.851240\n",
      "2  studytime  0.716829  0.716829\n",
      "3   absences -0.332041  0.332041\n",
      "4   failures -0.212899  0.212899\n",
      "5      sex_M -0.134782  0.134782\n"
     ]
    }
   ],
   "source": [
    "# Coefficients with feature names\n",
    "coef_df = pd.DataFrame({'feature': X_train_proc.columns,'coef': log_clf.coef_[0]})\n",
    "coef_df['abs_coef'] = coef_df['coef'].abs()\n",
    "coef_df = coef_df.sort_values('abs_coef', ascending=False).reset_index(drop=True)\n",
    "print(coef_df)\n"
   ]
  },
  {
   "cell_type": "markdown",
   "id": "e9dd8646",
   "metadata": {},
   "source": [
    "### Decision Tree as an alternative\n",
    "- Decision Trees don't need scaling and can capture non-linear relationships.\n",
    "- We will train a small tree (e.g., max_depth=3) to avoid overfitting on a small dataset.\n"
   ]
  },
  {
   "cell_type": "code",
   "execution_count": 11,
   "id": "2a8ace07",
   "metadata": {},
   "outputs": [
    {
     "name": "stdout",
     "output_type": "stream",
     "text": [
      "Decision Tree accuracy: 0.8\n",
      "\n",
      "Decision Tree Confusion Matrix:\n",
      " [[3 1]\n",
      " [1 5]]\n",
      "\n",
      "Decision Tree Classification Report:\n",
      "               precision    recall  f1-score   support\n",
      "\n",
      "           0      0.750     0.750     0.750         4\n",
      "           1      0.833     0.833     0.833         6\n",
      "\n",
      "    accuracy                          0.800        10\n",
      "   macro avg      0.792     0.792     0.792        10\n",
      "weighted avg      0.800     0.800     0.800        10\n",
      "\n",
      "\n",
      "Decision Tree feature importances:\n",
      "      feature  importance\n",
      "0         G2    0.553593\n",
      "1         G1    0.259930\n",
      "2      sex_M    0.085624\n",
      "3  studytime    0.054338\n",
      "4   absences    0.046514\n",
      "5   failures    0.000000\n"
     ]
    }
   ],
   "source": [
    "# Train Decision Tree (we can use the original unscaled data or scaled; tree ignores scale)\n",
    "tree_clf = DecisionTreeClassifier(max_depth=3, random_state=42)\n",
    "tree_clf.fit(X_train, y_train)  # note: using X_train (unscaled) is OK for trees\n",
    "\n",
    "# Predict and evaluate\n",
    "y_pred_tree = tree_clf.predict(X_test)\n",
    "acc_tree = accuracy_score(y_test, y_pred_tree)\n",
    "cm_tree = confusion_matrix(y_test, y_pred_tree)\n",
    "report_tree = classification_report(y_test, y_pred_tree, digits=3)\n",
    "\n",
    "print(\"Decision Tree accuracy:\", acc_tree)\n",
    "print(\"\\nDecision Tree Confusion Matrix:\\n\", cm_tree)\n",
    "print(\"\\nDecision Tree Classification Report:\\n\", report_tree)\n",
    "\n",
    "# Feature importances\n",
    "feat_imp = pd.DataFrame({'feature': X_train.columns,'importance': tree_clf.feature_importances_\n",
    "                         }).sort_values('importance', ascending=False).reset_index(drop=True)\n",
    "\n",
    "print(\"\\nDecision Tree feature importances:\\n\", feat_imp)\n"
   ]
  },
  {
   "cell_type": "code",
   "execution_count": 12,
   "id": "70cc5856",
   "metadata": {},
   "outputs": [
    {
     "data": {
      "image/png": "[encoded data removed]",
      "text/plain": [
       "<Figure size 500x400 with 2 Axes>"
      ]
     },
     "metadata": {},
     "output_type": "display_data"
    }
   ],
   "source": [
    "# Plot confusion matrix for logistic regression\n",
    "plt.figure(figsize=(5,4))\n",
    "sns.heatmap(cm_log, annot=True, fmt='d', cmap='Blues')\n",
    "plt.xlabel('Predicted')\n",
    "plt.ylabel('True')\n",
    "plt.title('Confusion Matrix - Logistic Regression')\n",
    "plt.show()\n"
   ]
  },
  {
   "cell_type": "markdown",
   "id": "141b2132",
   "metadata": {},
   "source": [
    "### Quick cross-validation (stretch)\n",
    "- Cross-validation gives a more robust estimate of model performance.\n",
    "- Use stratified folds for classification.\n",
    "- With small datasets use e.g. 5 folds, but be careful: too many folds -> small validation folds.\n"
   ]
  },
  {
   "cell_type": "code",
   "execution_count": 13,
   "id": "d7bcf007",
   "metadata": {},
   "outputs": [
    {
     "name": "stdout",
     "output_type": "stream",
     "text": [
      "Logistic CV scores (accuracy) on training set: [0.75  0.875 1.    0.75  0.75 ]\n",
      "Mean CV accuracy: 0.825 ± 0.100\n"
     ]
    }
   ],
   "source": [
    "# Cross-validate Logistic Regression (on pre-processed features)\n",
    "cv = StratifiedKFold(n_splits=5, shuffle=True, random_state=42)\n",
    "cv_scores_log = cross_val_score(log_clf, X_train_proc, y_train, cv=cv, scoring='accuracy')\n",
    "\n",
    "print(\"Logistic CV scores (accuracy) on training set:\", cv_scores_log)\n",
    "print(\"Mean CV accuracy: {:.3f} ± {:.3f}\".format(cv_scores_log.mean(), cv_scores_log.std()))\n"
   ]
  },
  {
   "cell_type": "markdown",
   "id": "735f7f38",
   "metadata": {},
   "source": [
    "### What does \"accuracy\" mean?\n",
    "- **Accuracy** = (number of correct predictions) / (total predictions).\n",
    "  - Example: accuracy = 0.80 => 80% of test examples were classified correctly.\n",
    "- **Limitation of accuracy**:\n",
    "  - If classes are imbalanced (e.g., 90% pass, 10% fail), a dumb model that always predicts \"pass\" gets 90% accuracy but is useless for finding at-risk students.\n",
    "  - That's why we also look at **confusion matrix**, **precision**, **recall**, and **F1-score**.\n",
    "\n",
    "**Confusion matrix (binary)**:\n",
    "- Rows = true labels, Columns = predicted labels.\n",
    "- For `passed` (1) vs `failed` (0), typical order is:\n",
    "  - `[[TN, FP],\n",
    "     [FN, TP]]`\n",
    "- **Precision** (for class=1) = TP / (TP + FP) -> when the model says \"will pass\", how often is it correct.\n",
    "- **Recall** (for class=1) = TP / (TP + FN) -> of all actual passers, how many did the model find.\n",
    "- **If our goal is to identify students at risk of failing**, we may prefer high **recall for the failed class** (i.e. we want to catch as many potential failures as possible), or tune thresholds accordingly.\n"
   ]
  }
 ],
 "metadata": {
  "kernelspec": {
   "display_name": "base",
   "language": "python",
   "name": "python3"
  },
  "language_info": {
   "codemirror_mode": {
    "name": "ipython",
    "version": 3
   },
   "file_extension": ".py",
   "mimetype": "text/x-python",
   "name": "python",
   "nbconvert_exporter": "python",
   "pygments_lexer": "ipython3",
   "version": "3.12.4"
  }
 },
 "nbformat": 4,
 "nbformat_minor": 5
}
